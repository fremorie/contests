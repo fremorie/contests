{
 "cells": [
  {
   "cell_type": "markdown",
   "metadata": {},
   "source": [
    "# Feature Extraction\n",
    "\n",
    "To solve \"Buy or not\" classification task we need to build following features describing a given session:\n",
    "\n",
    "**P1**: Total number of clicks during the session.\n",
    "\n",
    "**P2**: Average number of clicks per item.\n",
    "\n",
    "**P3**: Total duration of the session.\n",
    "\n",
    "**P4**: Maximal duration between two clicks.\n",
    "\n",
    "**P5**: Average duration between clicks in the session.\n",
    "\n",
    "**P6**: Maximal number of times the session has clicked on the same item.\n",
    "\n",
    "**P7**: Average of items’ buying probabilities in the session.\n",
    "\n",
    "**P8**: Maximum of items’ buying probabilities in the session.\n",
    "\n",
    "**P9**: Probability of buying at least one item in the session.\n",
    "\n",
    "**P10**: Maximal number of consecutive clicks on any item in the session.\n",
    "\n",
    "**P11**: Maximal duration between two consecutive clicks on any item in the session.\n",
    "\n",
    "Feature P9 is excluded. "
   ]
  },
  {
   "cell_type": "code",
   "execution_count": 1,
   "metadata": {
    "collapsed": true
   },
   "outputs": [],
   "source": [
    "import numpy as np\n",
    "from collections import Counter"
   ]
  },
  {
   "cell_type": "code",
   "execution_count": 2,
   "metadata": {
    "collapsed": true
   },
   "outputs": [],
   "source": [
    "import datetime\n",
    "from dateutil.parser import parse\n",
    "import time\n",
    "#time_obj = parse(time_str)"
   ]
  },
  {
   "cell_type": "code",
   "execution_count": 3,
   "metadata": {
    "collapsed": false
   },
   "outputs": [],
   "source": [
    "with open('./clicks.txt') as f:\n",
    "    clicks = [ l for l in f.read().split('\\n') if len(l) > 0 ]"
   ]
  },
  {
   "cell_type": "code",
   "execution_count": 4,
   "metadata": {
    "collapsed": false
   },
   "outputs": [],
   "source": [
    "with open('./yoochoose-buys.dat') as f:\n",
    "    buys = [ l for l in f.read().split('\\n') if len(l) > 0 ]"
   ]
  },
  {
   "cell_type": "markdown",
   "metadata": {},
   "source": [
    "Parsing the clicks' data:"
   ]
  },
  {
   "cell_type": "code",
   "execution_count": 5,
   "metadata": {
    "collapsed": false
   },
   "outputs": [],
   "source": [
    "sessions = np.zeros(dtype=int, shape = (len(clicks)))\n",
    "times = np.zeros(dtype='double', shape = (len(clicks)))\n",
    "items = np.zeros(dtype='int64', shape = (len(clicks)))\n",
    "\n",
    "for i in xrange(len(clicks)):\n",
    "    string = clicks[i]\n",
    "    string = string.split(',')\n",
    "    \n",
    "    session = int(string[0])\n",
    "    t = parse(string[1])\n",
    "    t = time.mktime(t.timetuple())\n",
    "    item = int(string[2])\n",
    "    \n",
    "    sessions[i] = session \n",
    "    times[i] = t\n",
    "    items[i] = item"
   ]
  },
  {
   "cell_type": "code",
   "execution_count": 6,
   "metadata": {
    "collapsed": true
   },
   "outputs": [],
   "source": [
    "np.save('./sessions', sessions)\n",
    "np.save('./times', times)\n",
    "np.save('./items', items)"
   ]
  },
  {
   "cell_type": "markdown",
   "metadata": {},
   "source": [
    "Parsing the buys' data:"
   ]
  },
  {
   "cell_type": "code",
   "execution_count": 7,
   "metadata": {
    "collapsed": false
   },
   "outputs": [],
   "source": [
    "b_sessions = np.zeros(dtype=int, shape = len(buys))\n",
    "b_times = np.zeros(dtype='double', shape = len(buys))\n",
    "b_items = np.zeros(dtype='int64', shape = len(buys))\n",
    "counts = np.zeros(dtype=int, shape=len(buys))\n",
    "\n",
    "for i in xrange(len(buys)):\n",
    "    session_id, timestamp, item, price, count = buys[i].split(',')\n",
    "    b_sessions[i] = int(session_id)\n",
    "    b_times[i] = time.mktime(parse(timestamp).timetuple())\n",
    "    b_items[i] = long(item)\n",
    "    counts[i] = int(count)"
   ]
  },
  {
   "cell_type": "markdown",
   "metadata": {},
   "source": [
    "Sorting data by session ID:"
   ]
  },
  {
   "cell_type": "code",
   "execution_count": 8,
   "metadata": {
    "collapsed": false
   },
   "outputs": [],
   "source": [
    "index = np.argsort(sessions)\n",
    "sessions = sessions[index]\n",
    "times = times[index]\n",
    "items = items[index]\n",
    "\n",
    "index = np.argsort(b_sessions)\n",
    "b_sessions = b_sessions[index]\n",
    "b_times = b_times[index]\n",
    "b_items = b_items[index]\n",
    "counts = counts[index]\n",
    "\n",
    "del index"
   ]
  },
  {
   "cell_type": "code",
   "execution_count": 9,
   "metadata": {
    "collapsed": true
   },
   "outputs": [],
   "source": [
    "import collections\n",
    "\n",
    "from collections import defaultdict"
   ]
  },
  {
   "cell_type": "markdown",
   "metadata": {},
   "source": [
    "Computes intermediate dictionaries:\n",
    "- session ID to session's items;\n",
    "- session ID to session's times of clicks;\n",
    "- session ID to session's start time (minimum of session times)."
   ]
  },
  {
   "cell_type": "code",
   "execution_count": 10,
   "metadata": {
    "collapsed": false
   },
   "outputs": [],
   "source": [
    "def session_info(sessions, times, items):\n",
    "    \n",
    "    from collections import defaultdict\n",
    "    \n",
    "    session_times = defaultdict(lambda: list())\n",
    "    session_items = defaultdict(lambda: list())\n",
    "    \n",
    "    for i in xrange(sessions.shape[0]):\n",
    "        session_times[sessions[i]].append(times[i])\n",
    "        session_items[sessions[i]].append(items[i])\n",
    "    \n",
    "    session_start_times = dict()\n",
    "    for session in session_times:\n",
    "        ts = np.array(session_times[session])\n",
    "        its = np.array(session_items[session])\n",
    "        \n",
    "        indx = np.argsort(ts)\n",
    "        ts = ts[indx]\n",
    "        its = its[indx]\n",
    "        \n",
    "        session_times[session] = ts\n",
    "        session_start_times[session] = np.min(ts)\n",
    "        assert session_times[session].shape[0] > 0\n",
    "        \n",
    "        session_items[session] = its\n",
    "        assert session_items[session].shape[0] > 0\n",
    "    \n",
    "    return session_times, session_start_times, session_items"
   ]
  },
  {
   "cell_type": "markdown",
   "metadata": {},
   "source": [
    "Computes reverse dictionaries:\n",
    "- item ID to list of sessions in which given item was clicked;\n",
    "- item ID to list of times when corresponding sessions have started."
   ]
  },
  {
   "cell_type": "code",
   "execution_count": 11,
   "metadata": {
    "collapsed": true
   },
   "outputs": [],
   "source": [
    "def item_sessions(items, sessions, sessions_start_time):\n",
    "    \n",
    "    from collections import defaultdict\n",
    "    \n",
    "    item_sessions = defaultdict(lambda: list())\n",
    "    item_sessions_start = dict()\n",
    "    \n",
    "    for i in xrange(items.shape[0]):\n",
    "        item_sessions[items[i]].append(sessions[i])  \n",
    "    \n",
    "    # delete duplicates and sort by times\n",
    "    \n",
    "    item_sessions_clicked = dict()\n",
    "    \n",
    "    for item in item_sessions:\n",
    "        ss = np.array(list(set(item_sessions[item])))\n",
    "        session_starts = np.array([ sessions_start_time[s] for s in ss ])\n",
    "        \n",
    "        idx = np.argsort(session_starts)\n",
    "        item_sessions_clicked[item] = ss[idx]\n",
    "        item_sessions_start[item] = session_starts[idx] \n",
    "        \n",
    "        \n",
    "    return item_sessions_clicked, item_sessions_start"
   ]
  },
  {
   "cell_type": "markdown",
   "metadata": {},
   "source": [
    "### Baseline probabilities\n",
    "Here we compute the features which are related to baseline probabilities."
   ]
  },
  {
   "cell_type": "code",
   "execution_count": 12,
   "metadata": {
    "collapsed": false
   },
   "outputs": [],
   "source": [
    "def baseline_probabilities(clicked_items, click_times, bought_items, N=25):\n",
    "    probs = dict()\n",
    "    probs_times = dict()\n",
    "    \n",
    "    for item in clicked_items:\n",
    "        times = click_times[item]\n",
    "        S = clicked_items[item]\n",
    "        P = bought_items[item] if item in bought_items else np.array([])\n",
    "\n",
    "        buy_or_not = np.zeros(shape=len(S), dtype = \"int8\")\n",
    "\n",
    "        session_index = defaultdict(lambda: list())\n",
    "\n",
    "        for i in xrange(len(S)):\n",
    "            session_index[S[i]] = i  \n",
    "        \n",
    "        if S.shape[0] <= N:\n",
    "            prob = P.shape[0] / S.shape[0]\n",
    "            probs[item] = np.array([prob])\n",
    "            probs_times[item] = np.array([np.max(times)])\n",
    "        else:\n",
    "            ns = np.array([ session_index[p] for p in P ])\n",
    "            if ns.shape[0] > 0:\n",
    "                buy_or_not[ns] = 1\n",
    "            cum_buy_or_not = np.cumsum(buy_or_not)\n",
    "        \n",
    "            number_of_buys = cum_buy_or_not[N:] - cum_buy_or_not[:-N]\n",
    "            prob = number_of_buys / float(N)\n",
    "            probs[item] = np.array(prob)\n",
    "            probs_times[item] = times[N:]\n",
    "            \n",
    "    return probs, probs_times"
   ]
  },
  {
   "cell_type": "code",
   "execution_count": 13,
   "metadata": {
    "collapsed": true
   },
   "outputs": [],
   "source": [
    "import matplotlib.pyplot as plt\n",
    "%matplotlib inline"
   ]
  },
  {
   "cell_type": "code",
   "execution_count": 14,
   "metadata": {
    "collapsed": true
   },
   "outputs": [],
   "source": [
    "def get_probabilities_info(session_items, session_times, item_probs, probs_times):\n",
    " \n",
    "    session_av_probability = dict() \n",
    "    session_max_probability = dict()\n",
    "    max_probability = dict()\n",
    "    \n",
    "    for session in session_items:\n",
    "                \n",
    "        items = session_items[session]\n",
    "        n_items = items.shape[0]\n",
    "        \n",
    "        one_item_one_probability = np.zeros(shape=items.shape[0], dtype = float)\n",
    "        \n",
    "        for i in xrange(items.shape[0]):\n",
    "            \n",
    "            item = items[i]\n",
    "            t = session_times[session][i]            \n",
    "            \n",
    "            all_item_times = probs_times[item]\n",
    "            \n",
    "            j = np.searchsorted(all_item_times, t, side='left')\n",
    "            \n",
    "            if j != 0:\n",
    "                one_item_one_probability[i] = item_probs[item][j-1]\n",
    "            else:\n",
    "                one_item_one_probability[i] = 0\n",
    "            \n",
    "        max_probability[session] = np.max(one_item_one_probability)\n",
    "                        \n",
    "        session_av_probability[session] = np.mean(one_item_one_probability)\n",
    "        \n",
    "        \n",
    "    return session_av_probability, max_probability"
   ]
  },
  {
   "cell_type": "markdown",
   "metadata": {},
   "source": [
    "### Consecutive clicks info\n",
    "Defining functions to extract consecutive clicks related features:"
   ]
  },
  {
   "cell_type": "code",
   "execution_count": 15,
   "metadata": {
    "collapsed": true
   },
   "outputs": [],
   "source": [
    "def max_consecutive(seq):\n",
    "    if len(seq) == 0:\n",
    "        return 0\n",
    "\n",
    "    current = seq[0]\n",
    "    current_sc = 1\n",
    "    max_sc = 1\n",
    "\n",
    "    for i in range(1, len(seq)):\n",
    "        if current == seq[i]:\n",
    "            current_sc += 1\n",
    "        else:\n",
    "            current = seq[i]\n",
    "            current_sc = 1\n",
    "\n",
    "        if current_sc > max_sc:\n",
    "            max_sc = current_sc   \n",
    "            \n",
    "    if current_sc > max_sc:\n",
    "        max_sc = current_sc   \n",
    "    \n",
    "    return max_sc\n",
    "\n",
    "def max_cons_duration(seq, ts):\n",
    "    if seq.shape[0] < 2:\n",
    "        return 0.0\n",
    "    else:\n",
    "        return np.max((seq[1:] - seq[:-1]) * (ts[1:] - ts[:-1]))"
   ]
  },
  {
   "cell_type": "code",
   "execution_count": 16,
   "metadata": {
    "collapsed": true
   },
   "outputs": [],
   "source": [
    "def get_consecutive_clicks_stats(session_items, session_times):\n",
    "    \n",
    "    maximal_duration = dict()\n",
    "    maximal_cons_clicks = dict()\n",
    "    \n",
    "    for session in session_items:\n",
    "        seq = session_items[session]\n",
    "        timestamps = session_times[session]\n",
    "        \n",
    "        maximal_duration[session] = max_cons_duration(seq, timestamps)\n",
    "        \n",
    "        maximal_cons_clicks[session] = max_consecutive(seq)\n",
    "\n",
    "\n",
    "    return maximal_cons_clicks, maximal_duration\n",
    "        "
   ]
  },
  {
   "cell_type": "markdown",
   "metadata": {},
   "source": [
    "### The rest\n",
    "Defining the function which extracts the rest of the features and computing intermediate characteristics."
   ]
  },
  {
   "cell_type": "code",
   "execution_count": 17,
   "metadata": {
    "collapsed": true
   },
   "outputs": [],
   "source": [
    "def get_session_stats(times, items):\n",
    "    \n",
    "    from collections import Counter\n",
    "    \n",
    "    index = np.argsort(times)\n",
    "    times = times[index]\n",
    "    items = items[index]\n",
    "\n",
    "    # P1\n",
    "    total_number_of_clicks = times.shape[0]\n",
    "    \n",
    "    clicks_per_item = Counter(items).values()\n",
    "    \n",
    "    # P2\n",
    "    average_clicks_per_item = np.mean(clicks_per_item)\n",
    "    \n",
    "    # P6\n",
    "    maximal_clicks_on_item = np.max(clicks_per_item)\n",
    "    \n",
    "    # P3\n",
    "    total_duration_of_session = times[-1] - times[0]\n",
    "    \n",
    "    delta_t = times[1:] - times[:-1]\n",
    "    \n",
    "    if delta_t.shape[0] > 0:\n",
    "        # P4\n",
    "        maximal_duration_between_clicks = np.max(delta_t)\n",
    "    \n",
    "        # P5\n",
    "        average_duration_between_clicks = np.mean(delta_t)\n",
    "    else:\n",
    "        maximal_duration_between_clicks = 0.0\n",
    "        average_duration_between_clicks = 0.0\n",
    "    \n",
    "    return total_number_of_clicks, average_clicks_per_item, \\\n",
    "        total_duration_of_session, maximal_duration_between_clicks, \\\n",
    "        average_duration_between_clicks, maximal_clicks_on_item"
   ]
  },
  {
   "cell_type": "code",
   "execution_count": 18,
   "metadata": {
    "collapsed": false
   },
   "outputs": [],
   "source": [
    "session_times, sessions_start_time, session_items = session_info(sessions, times, items)\n",
    "    \n",
    "clicked_items, clicks_times = item_sessions(items, sessions, sessions_start_time)\n",
    "bought_items, _ = item_sessions(b_items, b_sessions, sessions_start_time)\n",
    "item_probs, probs_times = baseline_probabilities(clicked_items, clicks_times, bought_items, N=25)"
   ]
  },
  {
   "cell_type": "code",
   "execution_count": 19,
   "metadata": {
    "collapsed": true
   },
   "outputs": [],
   "source": [
    "b_session_times, b_session_start_time, b_session_items = session_info(b_sessions, b_times, b_items)"
   ]
  },
  {
   "cell_type": "markdown",
   "metadata": {},
   "source": [
    "### Features extraction itself\n",
    "Now we have the whole set of functions needed to build the table of features.\n",
    "The function below returns such table represented as numpy-array."
   ]
  },
  {
   "cell_type": "code",
   "execution_count": 20,
   "metadata": {
    "collapsed": true
   },
   "outputs": [],
   "source": [
    "### 1. def get_features(sessions, times, items, b_sessions, b_times, b_items):\n",
    "    \n",
    "    \n",
    "    P7, P8 = get_probabilities_info(session_items, session_times, item_probs, probs_times)\n",
    "    \n",
    "    P10, P11 = get_consecutive_clicks_stats(session_items, session_times)\n",
    "    \n",
    "    ended_with_buy = set(b_sessions.tolist())\n",
    "    target = np.zeros(shape=len(session_times.keys()))\n",
    "    dataset = np.ndarray(shape=(len(session_times.keys()), 10))\n",
    "    \n",
    "    session_ids = np.ndarray(shape=len(session_times.keys()), dtype='int32')\n",
    "    \n",
    "    for session_n, session_id in enumerate(session_times.keys()):\n",
    "        \n",
    "        session_ids[session_n] = session_id\n",
    "        \n",
    "        timestamps = session_times[session_id]\n",
    "        its = session_items[session_id]\n",
    "        \n",
    "        P1, P2, P3, P4, P5, P6 = get_session_stats(timestamps, its)\n",
    "        \n",
    "        dataset[session_n, 0] = P1\n",
    "        dataset[session_n, 1] = P2\n",
    "        dataset[session_n, 2] = P3\n",
    "        dataset[session_n, 3] = P4\n",
    "        dataset[session_n, 4] = P5\n",
    "        dataset[session_n, 5] = P6\n",
    "        dataset[session_n, 6] = P7[session_id]\n",
    "        dataset[session_n, 7] = P8[session_id]\n",
    "        dataset[session_n, 8] = P10[session_id]\n",
    "        dataset[session_n, 9] = P11[session_id]\n",
    "        \n",
    "        if session_id in ended_with_buy:\n",
    "            target[session_n] = 1\n",
    "    \n",
    "    return dataset, target, session_ids"
   ]
  },
  {
   "cell_type": "code",
   "execution_count": 21,
   "metadata": {
    "collapsed": false
   },
   "outputs": [],
   "source": [
    "dataset, target, session_ids = get_features(sessions, times, items, b_sessions, b_times, b_items)"
   ]
  },
  {
   "cell_type": "code",
   "execution_count": 22,
   "metadata": {
    "collapsed": true
   },
   "outputs": [],
   "source": [
    "np.save('./dataset', dataset)\n",
    "np.save('./target', target)\n",
    "np.save('./session_ids', session_ids)"
   ]
  },
  {
   "cell_type": "markdown",
   "metadata": {},
   "source": [
    "### F-features"
   ]
  },
  {
   "cell_type": "markdown",
   "metadata": {},
   "source": [
    "We also need to extract the following session-to-item features:\n",
    "\n",
    "F1: Indicator of the item being the first item clicked.\n",
    "\n",
    "F2: Indicator of the item being the last item clicked.\n",
    "\n",
    "F3: Number of times the item was clicked in the session.\n",
    "\n",
    "F4: Time spent on the item during the session.\n",
    "\n",
    "F5: Baseline probability of the item being bought.\n",
    "\n",
    "F6: Number of consecutive clicks on the item.\n",
    "\n",
    "F7: Maximal duration between consecutive clicks on item."
   ]
  },
  {
   "cell_type": "code",
   "execution_count": 23,
   "metadata": {
    "collapsed": true
   },
   "outputs": [],
   "source": [
    "def get_consecutive_clicks_info(seq, times):\n",
    "    \n",
    "    deltas = times[1:] - times[:-1]\n",
    "        \n",
    "    item_max_sc = defaultdict(lambda: 1)\n",
    "    item_max_duration_between_sc = dict()\n",
    "    \n",
    "    for item in seq:\n",
    "        item_max_duration_between_sc[item] = 0.0\n",
    "    \n",
    "    \n",
    "    if len(seq) == 0:\n",
    "        return item_max_sc, item_max_duration_between_sc\n",
    "\n",
    "    current = seq[0]\n",
    "    current_sc = 1\n",
    "    \n",
    "    for i in range(1, len(seq)):\n",
    "                \n",
    "        if current == seq[i]:\n",
    "            current_sc += 1\n",
    "            if item_max_duration_between_sc[seq[i]] < deltas[i-1]:\n",
    "                item_max_duration_between_sc[seq[i]] = deltas[i-1]\n",
    "        else:\n",
    "            if current_sc > item_max_sc[seq[i-1]]:\n",
    "                item_max_sc[seq[i-1]] = current_sc \n",
    "            current = seq[i]\n",
    "            current_sc = 1\n",
    "    \n",
    "    i = len(seq)        \n",
    "    if current_sc > item_max_sc[seq[i-1]]:\n",
    "        item_max_sc[seq[i-1]] = current_sc \n",
    "\n",
    "    return item_max_sc, item_max_duration_between_sc "
   ]
  },
  {
   "cell_type": "code",
   "execution_count": 24,
   "metadata": {
    "collapsed": true
   },
   "outputs": [],
   "source": [
    "def get_f_features(session, session_times, session_items, probs_times):\n",
    "\n",
    "    item_first_or_not = dict()\n",
    "    item_last_or_not = dict()\n",
    "    item_number_of_clicks = dict()\n",
    "    item_total_time_spent_on_item = defaultdict(lambda: 0.0)\n",
    "    item_probability = dict()\n",
    "    item_number_of_cons_clicks = dict()\n",
    "    item_max_duration_between_cons_clicks = dict()\n",
    "    \n",
    "    items = session_items[session]\n",
    "    times = session_times[session]\n",
    "     \n",
    "    delta = times[1:] - times[:-1]\n",
    "    if items.shape[0] > 1:\n",
    "        av_delta = np.mean(delta)\n",
    "    else:\n",
    "        av_delta = 0.0\n",
    "    \n",
    "    for i in xrange(items.shape[0]):\n",
    "        item_first_or_not[items[i]] = 0\n",
    "        item_last_or_not[items[i]] = 0        \n",
    "        \n",
    "        if i == items.shape[0] - 1:\n",
    "            item_total_time_spent_on_item[items[i]] += av_delta\n",
    "        else:\n",
    "            item_total_time_spent_on_item[items[i]] += delta[i]\n",
    "        \n",
    "        # probability search starts\n",
    "        t = session_times[session][i]            \n",
    "        all_item_times = probs_times[items[i]]\n",
    "        j = np.searchsorted(all_item_times, t, side='left')\n",
    "        if j != 0:\n",
    "            item_probability[items[i]] = item_probs[items[i]][j-1]\n",
    "        else:\n",
    "            item_probability[items[i]] = 0\n",
    "        # probability search ends\n",
    "        \n",
    "    item_first_or_not[items[0]] = 1\n",
    "    item_last_or_not[items[-1]] = 1\n",
    "    item_number_of_clicks = Counter(items)\n",
    "    \n",
    "    item_max_sc, item_max_duration_between_sc  = get_consecutive_clicks_info(session_items[session], \n",
    "                                                                             session_times[session])\n",
    "    \n",
    "    return item_first_or_not, item_last_or_not, item_number_of_clicks, \\\n",
    "            item_total_time_spent_on_item, item_probability, item_max_sc, \\\n",
    "            item_max_duration_between_sc \n",
    "    "
   ]
  },
  {
   "cell_type": "code",
   "execution_count": 25,
   "metadata": {
    "collapsed": true
   },
   "outputs": [],
   "source": [
    "def get_table_of_f_features():\n",
    "    \n",
    "    shape_of_dataset = 0\n",
    "    for session in session_items:\n",
    "        items = session_items[session]\n",
    "        shape_of_dataset += len(set(items.tolist()))\n",
    "    \n",
    "    f_dataset = np.zeros(shape=(shape_of_dataset, 7), dtype='double')\n",
    "    session_ids = np.zeros(shape=shape_of_dataset, dtype = 'int32')\n",
    "    item_ids = np.zeros(shape=shape_of_dataset, dtype = 'int32')\n",
    "    f_target = np.zeros(shape=shape_of_dataset, dtype='int') \n",
    "    \n",
    "    n = 0\n",
    "    \n",
    "    for session in session_items:\n",
    "        \n",
    "        if session in b_session_items:\n",
    "            buy_items = set(b_session_items[session].tolist())\n",
    "        else:\n",
    "            buy_items = set()\n",
    "            \n",
    "        items = session_items[session]\n",
    "        times = session_times[session]\n",
    "        F1, F2, F3, F4, F5, F6, F7 = get_f_features(session, session_times, session_items, probs_times)\n",
    "        for item in set(items.tolist()):\n",
    "            \n",
    "            f_target[n] = 1 if item in buy_items else 0\n",
    "            \n",
    "            session_ids[n] = session\n",
    "            item_ids[n] = item\n",
    "            f_dataset[n,0] = F1[item]\n",
    "            f_dataset[n,1] = F2[item]\n",
    "            f_dataset[n,2] = F3[item]\n",
    "            f_dataset[n,3] = F4[item]\n",
    "            f_dataset[n,4] = F5[item]\n",
    "            f_dataset[n,5] = F6[item]\n",
    "            f_dataset[n,6] = F7[item]\n",
    "            n+=1\n",
    "            \n",
    "    return f_dataset, f_target, session_ids, item_ids"
   ]
  },
  {
   "cell_type": "code",
   "execution_count": 27,
   "metadata": {
    "collapsed": false
   },
   "outputs": [],
   "source": [
    "f_dataset, f_target, session_ids, item_ids = get_table_of_f_features()"
   ]
  },
  {
   "cell_type": "code",
   "execution_count": 28,
   "metadata": {
    "collapsed": true
   },
   "outputs": [],
   "source": [
    "np.save('./f_dataset', f_dataset)\n",
    "np.save('./f_target', f_target)\n",
    "np.save('./f_item_ids', item_ids)\n",
    "np.save('./f_session_ids', session_ids)"
   ]
  },
  {
   "cell_type": "markdown",
   "metadata": {},
   "source": [
    "### Simple test to check correctness of extracted features"
   ]
  },
  {
   "cell_type": "code",
   "execution_count": 29,
   "metadata": {
    "collapsed": false
   },
   "outputs": [],
   "source": [
    "from sklearn.ensemble import RandomForestClassifier\n",
    "\n",
    "rf = RandomForestClassifier(n_estimators=10, max_depth = 5)"
   ]
  },
  {
   "cell_type": "code",
   "execution_count": 30,
   "metadata": {
    "collapsed": false
   },
   "outputs": [
    {
     "data": {
      "text/plain": [
       "RandomForestClassifier(bootstrap=True, class_weight=None, criterion='gini',\n",
       "            max_depth=5, max_features='auto', max_leaf_nodes=None,\n",
       "            min_samples_leaf=1, min_samples_split=2,\n",
       "            min_weight_fraction_leaf=0.0, n_estimators=10, n_jobs=1,\n",
       "            oob_score=False, random_state=None, verbose=0,\n",
       "            warm_start=False)"
      ]
     },
     "execution_count": 30,
     "metadata": {},
     "output_type": "execute_result"
    }
   ],
   "source": [
    "rf.fit(f_dataset, f_target)"
   ]
  },
  {
   "cell_type": "code",
   "execution_count": 31,
   "metadata": {
    "collapsed": false
   },
   "outputs": [
    {
     "data": {
      "image/png": "[encoded data removed]",
      "text/plain": [
       "<matplotlib.figure.Figure at 0x7f78b1b2ccd0>"
      ]
     },
     "metadata": {},
     "output_type": "display_data"
    },
    {
     "data": {
      "image/png": "[encoded data removed]",
      "text/plain": [
       "<matplotlib.figure.Figure at 0x7f78b1cb0850>"
      ]
     },
     "metadata": {},
     "output_type": "display_data"
    },
    {
     "data": {
      "image/png": "[encoded data removed]",
      "text/plain": [
       "<matplotlib.figure.Figure at 0x7f78aee34bd0>"
      ]
     },
     "metadata": {},
     "output_type": "display_data"
    },
    {
     "data": {
      "image/png": "[encoded data removed]",
      "text/plain": [
       "<matplotlib.figure.Figure at 0x7f78ae824c50>"
      ]
     },
     "metadata": {},
     "output_type": "display_data"
    },
    {
     "data": {
      "image/png": "[encoded data removed]",
      "text/plain": [
       "<matplotlib.figure.Figure at 0x7f78afa91c50>"
      ]
     },
     "metadata": {},
     "output_type": "display_data"
    },
    {
     "data": {
      "image/png": "[encoded data removed]",
      "text/plain": [
       "<matplotlib.figure.Figure at 0x7f78b13fe890>"
      ]
     },
     "metadata": {},
     "output_type": "display_data"
    },
    {
     "data": {
      "image/png": "[encoded data removed]",
      "text/plain": [
       "<matplotlib.figure.Figure at 0x7f78aeed0d90>"
      ]
     },
     "metadata": {},
     "output_type": "display_data"
    }
   ],
   "source": [
    "bindx = f_target == 1\n",
    "nbindx = f_target == 0\n",
    "\n",
    "for i in range(f_dataset.shape[1]):\n",
    "    plt.figure()\n",
    "    plt.title(\"F%d\" % (i + 1))\n",
    "    amin, amax = np.min(f_dataset[:, i]), np.max(f_dataset[:, i])\n",
    "    \n",
    "    bhist, _ = np.histogram(f_dataset[bindx, i], bins=10, range=(amin, amax))\n",
    "    nbhist, _ = np.histogram(f_dataset[nbindx, i], bins=10, range=(amin, amax))\n",
    "    \n",
    "    bhist = bhist / float(np.sum(bhist))\n",
    "    nbhist = nbhist / float(np.sum(nbhist))\n",
    "    \n",
    "    plt.bar(np.arange(10), bhist, width = 0.4, color = \"blue\", label='Buys')\n",
    "    plt.bar(np.arange(10) + 0.5, nbhist, width = 0.4, color='red', label='No buys')\n",
    "    plt.legend(loc=('upper right'))\n",
    "    plt.show()"
   ]
  },
  {
   "cell_type": "code",
   "execution_count": 32,
   "metadata": {
    "collapsed": false
   },
   "outputs": [
    {
     "name": "stdout",
     "output_type": "stream",
     "text": [
      "F1 0.0180084358975\n",
      "F2 0.0128051804778\n",
      "F3 0.178447169744\n",
      "F4 0.0549230036554\n",
      "F5 0.643836820162\n",
      "F6 0.00684876822367\n",
      "F7 0.0851306218392\n"
     ]
    }
   ],
   "source": [
    "for i, imp in enumerate(rf.feature_importances_):\n",
    "    print \"F%d\" % (i + 1), imp"
   ]
  },
  {
   "cell_type": "markdown",
   "metadata": {
    "collapsed": true
   },
   "source": [
    "As one can see, all of the features have non-zero importance, thus feature extraction is most probably correct. "
   ]
  }
 ],
 "metadata": {
  "kernelspec": {
   "display_name": "Python 2",
   "language": "python",
   "name": "python2"
  },
  "language_info": {
   "codemirror_mode": {
    "name": "ipython",
    "version": 2
   },
   "file_extension": ".py",
   "mimetype": "text/x-python",
   "name": "python",
   "nbconvert_exporter": "python",
   "pygments_lexer": "ipython2",
   "version": "2.7.11"
  }
 },
 "nbformat": 4,
 "nbformat_minor": 0
}
