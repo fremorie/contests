{
 "cells": [
  {
   "cell_type": "markdown",
   "metadata": {},
   "source": [
    "# 'Buy or not' classifier"
   ]
  },
  {
   "cell_type": "code",
   "execution_count": 1,
   "metadata": {
    "collapsed": true
   },
   "outputs": [],
   "source": [
    "import numpy as np\n",
    "import matplotlib.pyplot as plt\n",
    "%matplotlib inline\n",
    "\n",
    "from sklearn.ensemble import RandomForestClassifier\n",
    "from sklearn.metrics import roc_auc_score\n",
    "from sklearn.metrics import precision_score, recall_score, accuracy_score\n",
    "from sklearn.metrics import roc_curve, precision_recall_curve, auc\n",
    "from sklearn.cross_validation import StratifiedKFold, cross_val_score, train_test_split"
   ]
  },
  {
   "cell_type": "code",
   "execution_count": 2,
   "metadata": {
    "collapsed": false
   },
   "outputs": [],
   "source": [
    "dataset = np.load('./dataset.npy')"
   ]
  },
  {
   "cell_type": "code",
   "execution_count": 3,
   "metadata": {
    "collapsed": true
   },
   "outputs": [],
   "source": [
    "target = np.load('./target.npy')"
   ]
  },
  {
   "cell_type": "code",
   "execution_count": 4,
   "metadata": {
    "collapsed": false
   },
   "outputs": [
    {
     "data": {
      "text/plain": [
       "(9249729, 10)"
      ]
     },
     "execution_count": 4,
     "metadata": {},
     "output_type": "execute_result"
    }
   ],
   "source": [
    "dataset.shape"
   ]
  },
  {
   "cell_type": "code",
   "execution_count": 5,
   "metadata": {
    "collapsed": false
   },
   "outputs": [
    {
     "data": {
      "text/plain": [
       "(9249729,)"
      ]
     },
     "execution_count": 5,
     "metadata": {},
     "output_type": "execute_result"
    }
   ],
   "source": [
    "target.shape"
   ]
  },
  {
   "cell_type": "markdown",
   "metadata": {},
   "source": [
    "Splitting dataset into train and test sets in ratio 8:2. "
   ]
  },
  {
   "cell_type": "code",
   "execution_count": 6,
   "metadata": {
    "collapsed": false
   },
   "outputs": [],
   "source": [
    "X_train, X_test, y_train, y_test = train_test_split(dataset, target, test_size=0.2, stratify=target)"
   ]
  },
  {
   "cell_type": "markdown",
   "metadata": {},
   "source": [
    "Random forest has a tendency to overfit. There are two major groups of parameters to control its generalization ability: \n",
    "- tree's depth restrictions;\n",
    "- number of trees in forest.\n",
    "\n",
    "While our empirical results suggest that number of trees in forest has almost no effect on resulting score, tree's depth restrictions are the only parameters left to be selected.\n",
    "\n",
    "Following the article, I've chosen minimum number of samples that have to be present within an internal node in a tree along with unrestricted maximal depth. Thus search over only one number has to be performed.\n"
   ]
  },
  {
   "cell_type": "code",
   "execution_count": 7,
   "metadata": {
    "collapsed": false
   },
   "outputs": [
    {
     "name": "stdout",
     "output_type": "stream",
     "text": [
      "min_split=100, ROC AUC=0.8684, PR AUC=0.3573\n",
      "min_split=200, ROC AUC=0.8729, PR AUC=0.3653\n",
      "min_split=300, ROC AUC=0.8745, PR AUC=0.3671\n",
      "min_split=500, ROC AUC=0.8758, PR AUC=0.3681\n",
      "min_split=750, ROC AUC=0.8763, PR AUC=0.3664\n",
      "min_split=1500, ROC AUC=0.8763, PR AUC=0.3616\n"
     ]
    }
   ],
   "source": [
    "min_splits = np.array([100, 200, 300, 500, 750, 1500])\n",
    "\n",
    "for min_split in min_splits:\n",
    "\n",
    "    rf = RandomForestClassifier(n_estimators=200, max_depth=None, \n",
    "                                min_samples_split=min_split, class_weight='balanced',\n",
    "                                n_jobs=-1)\n",
    "    rf.fit(X_train, y_train)\n",
    "    y_proba = rf.predict_proba(X_test)\n",
    "    roc_auc = roc_auc_score(y_test, y_proba[:,1])\n",
    "    \n",
    "    precision, recall, thresholds = precision_recall_curve(y_test, y_proba[:, 1])\n",
    "    pr_auc = auc(recall, precision, reorder=True)\n",
    "    \n",
    "    print 'min_split=%d, ROC AUC=%.4f, PR AUC=%.4f' %(min_split, roc_auc, pr_auc)"
   ]
  },
  {
   "cell_type": "markdown",
   "metadata": {},
   "source": [
    "As one can see, as `min_split` reaches the value of 500 and goes up to 2500, there are no changes in ROC AUC. However, the value of Precision-Recall AUC has maximum around `min_split = 500`. This clearly leaves us with the optimal choice of `min_split` of 500. "
   ]
  },
  {
   "cell_type": "code",
   "execution_count": 8,
   "metadata": {
    "collapsed": false
   },
   "outputs": [],
   "source": [
    "optimal_min_sample_split = 500\n",
    "rf = RandomForestClassifier(n_estimators=100, max_depth=None, min_samples_split=optimal_min_sample_split,\n",
    "                           n_jobs=-1)\n",
    "rf.fit(X_train, y_train)\n",
    "y_proba = rf.predict_proba(X_test)"
   ]
  },
  {
   "cell_type": "markdown",
   "metadata": {},
   "source": [
    "### Classifier evaluation"
   ]
  },
  {
   "cell_type": "code",
   "execution_count": 9,
   "metadata": {
    "collapsed": false
   },
   "outputs": [
    {
     "data": {
      "image/png": "[encoded data removed]",
      "text/plain": [
       "<matplotlib.figure.Figure at 0x7f686573af50>"
      ]
     },
     "metadata": {},
     "output_type": "display_data"
    }
   ],
   "source": [
    "fpr, tpr, thresholds = roc_curve(y_test, y_proba[:, 1])\n",
    "roc_auc = auc(fpr, tpr)\n",
    "\n",
    "plt.plot(fpr, tpr, lw=1, label='ROC (area = %0.3f)' % (roc_auc))\n",
    "plt.plot([0, 1], [0, 1], '--', color=(0.6, 0.6, 0.6))\n",
    "plt.xlim([-0.05, 1.05])\n",
    "plt.ylim([-0.05, 1.05])\n",
    "plt.xlabel('False Positive Rate')\n",
    "plt.ylabel('True Positive Rate')\n",
    "plt.title('Receiver operating characteristic')\n",
    "plt.legend(loc=\"lower right\")\n",
    "plt.show()"
   ]
  },
  {
   "cell_type": "code",
   "execution_count": 10,
   "metadata": {
    "collapsed": false
   },
   "outputs": [
    {
     "data": {
      "image/png": "[encoded data removed]",
      "text/plain": [
       "<matplotlib.figure.Figure at 0x7f68ea57e4d0>"
      ]
     },
     "metadata": {},
     "output_type": "display_data"
    }
   ],
   "source": [
    "precision, recall, thresholds = precision_recall_curve(y_test, y_proba[:, 1])\n",
    "\n",
    "buy_fraction = np.mean(y_test)\n",
    "\n",
    "pr_auc = auc(recall, precision, reorder=True)\n",
    "plt.plot(recall, precision, lw=1, label='Precision-Recall (area = %0.3f)' % (pr_auc))\n",
    "plt.plot([0, 1], [buy_fraction, buy_fraction], '--', color=(0.6, 0.6, 0.6))\n",
    "plt.xlim([-0.05, 1.05])\n",
    "plt.ylim([-0.05, 1.05])\n",
    "plt.xlabel('Recall')\n",
    "plt.ylabel('Precision')\n",
    "plt.title('Precision-Recall Curve')\n",
    "plt.legend(loc=\"upper right\")\n",
    "plt.show()\n"
   ]
  },
  {
   "cell_type": "markdown",
   "metadata": {},
   "source": [
    "In order to compute accuracy, precision and recall one needs to choose decision rule, i.e. threshold for the predicted probabilities. Since there is no predefined preferences, i.e. losses for types I and II errors, the F1-measure is selected as criterion for selecting optimum threshold."
   ]
  },
  {
   "cell_type": "code",
   "execution_count": 11,
   "metadata": {
    "collapsed": false
   },
   "outputs": [
    {
     "data": {
      "text/plain": [
       "<matplotlib.legend.Legend at 0x7f683297ee50>"
      ]
     },
     "execution_count": 11,
     "metadata": {},
     "output_type": "execute_result"
    },
    {
     "data": {
      "image/png": "[encoded data removed]",
      "text/plain": [
       "<matplotlib.figure.Figure at 0x7f68329e8490>"
      ]
     },
     "metadata": {},
     "output_type": "display_data"
    }
   ],
   "source": [
    "F1 = 2 * (precision * recall) / (precision + recall)\n",
    "\n",
    "optimal_threshold_i = np.where(F1 == np.max(F1))[0][0]\n",
    "optimal_threshold = thresholds[optimal_threshold_i]\n",
    "\n",
    "plt.plot(thresholds, F1[1:])\n",
    "plt.plot([optimal_threshold, optimal_threshold], [np.min(F1), np.max(F1)], '--', color=(0.6, 0.6, 0.6),\n",
    "         label = 'Maximal F1 score')\n",
    "plt.xlabel('Decision thresholds')\n",
    "plt.ylabel('F1-measure')\n",
    "plt.legend(loc = 'upper left')"
   ]
  },
  {
   "cell_type": "markdown",
   "metadata": {},
   "source": [
    "And the requested metrics for the selected decision rule are:"
   ]
  },
  {
   "cell_type": "code",
   "execution_count": 12,
   "metadata": {
    "collapsed": false
   },
   "outputs": [
    {
     "name": "stdout",
     "output_type": "stream",
     "text": [
      "Decision threshold: 0.21\n",
      "Precision: 0.37\n",
      "Recall: 0.50\n",
      "Accuracy: 0.93\n"
     ]
    }
   ],
   "source": [
    "final_precision = precision_score(y_test, y_proba[:, 1] > optimal_threshold)\n",
    "final_recall = recall_score(y_test, y_proba[:, 1] > optimal_threshold)\n",
    "\n",
    "accuracy = np.mean(y_test == (y_proba[:, 1] > optimal_threshold))\n",
    "\n",
    "print 'Decision threshold: %.2f' % optimal_threshold\n",
    "print 'Precision: %.2f' % final_precision\n",
    "print 'Recall: %.2f' % final_recall\n",
    "print 'Accuracy: %.2f' % accuracy"
   ]
  }
 ],
 "metadata": {
  "kernelspec": {
   "display_name": "Python 2",
   "language": "python",
   "name": "python2"
  },
  "language_info": {
   "codemirror_mode": {
    "name": "ipython",
    "version": 2
   },
   "file_extension": ".py",
   "mimetype": "text/x-python",
   "name": "python",
   "nbconvert_exporter": "python",
   "pygments_lexer": "ipython2",
   "version": "2.7.11"
  }
 },
 "nbformat": 4,
 "nbformat_minor": 0
}
